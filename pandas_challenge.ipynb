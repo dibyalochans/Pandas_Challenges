{
 "cells": [
  {
   "cell_type": "code",
   "execution_count": 1,
   "metadata": {},
   "outputs": [],
   "source": [
    "import pandas as pd\n",
    "import numpy as np"
   ]
  },
  {
   "cell_type": "code",
   "execution_count": 4,
   "metadata": {
    "scrolled": true
   },
   "outputs": [
    {
     "data": {
      "text/html": [
       "<div>\n",
       "<style scoped>\n",
       "    .dataframe tbody tr th:only-of-type {\n",
       "        vertical-align: middle;\n",
       "    }\n",
       "\n",
       "    .dataframe tbody tr th {\n",
       "        vertical-align: top;\n",
       "    }\n",
       "\n",
       "    .dataframe thead th {\n",
       "        text-align: right;\n",
       "    }\n",
       "</style>\n",
       "<table border=\"1\" class=\"dataframe\">\n",
       "  <thead>\n",
       "    <tr style=\"text-align: right;\">\n",
       "      <th></th>\n",
       "      <th>Application_ID</th>\n",
       "      <th>Gender</th>\n",
       "      <th>Married</th>\n",
       "      <th>Dependents</th>\n",
       "      <th>Education</th>\n",
       "      <th>Self_Employed</th>\n",
       "      <th>Credit_History</th>\n",
       "      <th>Property_Area</th>\n",
       "      <th>Income</th>\n",
       "      <th>Application_Status</th>\n",
       "    </tr>\n",
       "  </thead>\n",
       "  <tbody>\n",
       "    <tr>\n",
       "      <th>0</th>\n",
       "      <td>LP001002</td>\n",
       "      <td>Male</td>\n",
       "      <td>No</td>\n",
       "      <td>0</td>\n",
       "      <td>Graduate</td>\n",
       "      <td>No</td>\n",
       "      <td>1</td>\n",
       "      <td>Urban</td>\n",
       "      <td>medium</td>\n",
       "      <td>Y</td>\n",
       "    </tr>\n",
       "    <tr>\n",
       "      <th>1</th>\n",
       "      <td>LP001003</td>\n",
       "      <td>Male</td>\n",
       "      <td>Yes</td>\n",
       "      <td>1</td>\n",
       "      <td>Graduate</td>\n",
       "      <td>No</td>\n",
       "      <td>1</td>\n",
       "      <td>Rural</td>\n",
       "      <td>medium</td>\n",
       "      <td>N</td>\n",
       "    </tr>\n",
       "    <tr>\n",
       "      <th>2</th>\n",
       "      <td>LP001005</td>\n",
       "      <td>Male</td>\n",
       "      <td>Yes</td>\n",
       "      <td>0</td>\n",
       "      <td>Graduate</td>\n",
       "      <td>Yes</td>\n",
       "      <td>1</td>\n",
       "      <td>Urban</td>\n",
       "      <td>low</td>\n",
       "      <td>Y</td>\n",
       "    </tr>\n",
       "    <tr>\n",
       "      <th>3</th>\n",
       "      <td>LP001006</td>\n",
       "      <td>Male</td>\n",
       "      <td>Yes</td>\n",
       "      <td>0</td>\n",
       "      <td>Not Graduate</td>\n",
       "      <td>No</td>\n",
       "      <td>1</td>\n",
       "      <td>Urban</td>\n",
       "      <td>low</td>\n",
       "      <td>Y</td>\n",
       "    </tr>\n",
       "    <tr>\n",
       "      <th>4</th>\n",
       "      <td>LP001008</td>\n",
       "      <td>Male</td>\n",
       "      <td>No</td>\n",
       "      <td>0</td>\n",
       "      <td>Graduate</td>\n",
       "      <td>No</td>\n",
       "      <td>1</td>\n",
       "      <td>Urban</td>\n",
       "      <td>medium</td>\n",
       "      <td>Y</td>\n",
       "    </tr>\n",
       "  </tbody>\n",
       "</table>\n",
       "</div>"
      ],
      "text/plain": [
       "  Application_ID Gender Married Dependents     Education Self_Employed  \\\n",
       "0       LP001002   Male      No          0      Graduate            No   \n",
       "1       LP001003   Male     Yes          1      Graduate            No   \n",
       "2       LP001005   Male     Yes          0      Graduate           Yes   \n",
       "3       LP001006   Male     Yes          0  Not Graduate            No   \n",
       "4       LP001008   Male      No          0      Graduate            No   \n",
       "\n",
       "   Credit_History Property_Area  Income Application_Status  \n",
       "0               1         Urban  medium                  Y  \n",
       "1               1         Rural  medium                  N  \n",
       "2               1         Urban     low                  Y  \n",
       "3               1         Urban     low                  Y  \n",
       "4               1         Urban  medium                  Y  "
      ]
     },
     "execution_count": 4,
     "metadata": {},
     "output_type": "execute_result"
    }
   ],
   "source": [
    "data=pd.read_json('loan_data.json')\n",
    "data.head()"
   ]
  },
  {
   "cell_type": "markdown",
   "metadata": {},
   "source": [
    "# Data Preprocessing"
   ]
  },
  {
   "cell_type": "code",
   "execution_count": 115,
   "metadata": {},
   "outputs": [
    {
     "data": {
      "text/plain": [
       "(511, 10)"
      ]
     },
     "execution_count": 115,
     "metadata": {},
     "output_type": "execute_result"
    }
   ],
   "source": [
    "data.shape"
   ]
  },
  {
   "cell_type": "code",
   "execution_count": 114,
   "metadata": {},
   "outputs": [],
   "source": [
    "cat_feature_x=[feature for feature in data.columns[:-1] if len(data[feature].unique())<10 and feature not in ['Application_ID']]\n",
    "cat_feature_x\n",
    "features=[feature for feature in data.columns[:-1] if feature not in ['Application_ID']]\n",
    "x=data[features]\n",
    "y=data.iloc[:,-1]"
   ]
  },
  {
   "cell_type": "code",
   "execution_count": 105,
   "metadata": {},
   "outputs": [
    {
     "data": {
      "text/plain": [
       "Application_ID        0\n",
       "Gender                0\n",
       "Married               0\n",
       "Dependents            0\n",
       "Education             0\n",
       "Self_Employed         0\n",
       "Credit_History        0\n",
       "Property_Area         0\n",
       "Income                0\n",
       "Application_Status    0\n",
       "dtype: int64"
      ]
     },
     "execution_count": 105,
     "metadata": {},
     "output_type": "execute_result"
    }
   ],
   "source": [
    "data.isnull().sum()"
   ]
  },
  {
   "cell_type": "code",
   "execution_count": 20,
   "metadata": {},
   "outputs": [
    {
     "data": {
      "text/plain": [
       "Application_ID        511\n",
       "Gender                  2\n",
       "Married                 2\n",
       "Dependents              4\n",
       "Education               2\n",
       "Self_Employed           2\n",
       "Credit_History          2\n",
       "Property_Area           3\n",
       "Income                  3\n",
       "Application_Status      2\n",
       "dtype: int64"
      ]
     },
     "execution_count": 20,
     "metadata": {},
     "output_type": "execute_result"
    }
   ],
   "source": [
    "data.nunique()"
   ]
  },
  {
   "cell_type": "markdown",
   "metadata": {},
   "source": [
    "# Solution Q_1"
   ]
  },
  {
   "cell_type": "code",
   "execution_count": 38,
   "metadata": {},
   "outputs": [
    {
     "name": "stdout",
     "output_type": "stream",
     "text": [
      "Dependant unique value: 0 ;% of total applicants: 57.53\n",
      "Dependant unique value: 1 ;% of total applicants: 16.63\n",
      "Dependant unique value: 2 ;% of total applicants: 17.22\n",
      "Dependant unique value: 3+ ;% of total applicants: 8.61\n"
     ]
    }
   ],
   "source": [
    "s=data['Dependents'].unique()\n",
    "for i in s:\n",
    "    num_dep=data['Dependents'].value_counts()[i]\n",
    "    per_dep=(num_dep/data.shape[0])*100\n",
    "    print('Dependant unique value: '+i +' ;% of total applicants: ' + str(round(per_dep,2)) )"
   ]
  },
  {
   "cell_type": "markdown",
   "metadata": {},
   "source": [
    "# Solution Q_2"
   ]
  },
  {
   "cell_type": "code",
   "execution_count": 46,
   "metadata": {},
   "outputs": [
    {
     "name": "stdout",
     "output_type": "stream",
     "text": [
      "Average number of dependents per applicant: 1.0(Approx)\n"
     ]
    }
   ],
   "source": [
    "sum=0  # Here as the percentage of applicants with 3+ dependants are less,\n",
    "       #hence I assume and approximate them as only having 3 dependants\n",
    "for i in s:\n",
    "    value=int(i[0])\n",
    "    num_dep=data['Dependents'].value_counts()[i]\n",
    "    per_dep=num_dep/data.shape[0]\n",
    "    sum += per_dep*value\n",
    "print('Average number of dependents per applicant: '+str(round(sum))+ '(Approx)')\n",
    "   "
   ]
  },
  {
   "cell_type": "markdown",
   "metadata": {},
   "source": [
    "# Solution Q_3"
   ]
  },
  {
   "cell_type": "code",
   "execution_count": 86,
   "metadata": {},
   "outputs": [
    {
     "name": "stdout",
     "output_type": "stream",
     "text": [
      "%of applications approved for self-employed applicants: 65.71\n"
     ]
    }
   ],
   "source": [
    "num_self_employed=0\n",
    "approved=0\n",
    "for i,value in enumerate(data['Self_Employed']):\n",
    "    if value == 'Yes':\n",
    "        num_self_employed += 1\n",
    "        if data.loc[i, 'Application_Status'] == 'Y':\n",
    "            approved += 1\n",
    "per_approve=(approved/num_self_employed)*100\n",
    "print('%of applications approved for self-employed applicants: '+ str(round(per_approve,2))) "
   ]
  },
  {
   "cell_type": "markdown",
   "metadata": {},
   "source": [
    "# Solution Q_4"
   ]
  },
  {
   "cell_type": "code",
   "execution_count": 140,
   "metadata": {},
   "outputs": [
    {
     "name": "stdout",
     "output_type": "stream",
     "text": [
      "% of rejections for married male applicants: 28.43\n"
     ]
    }
   ],
   "source": [
    "rejection=0\n",
    "total=0\n",
    "for i in data.index:\n",
    "    if data.loc[i, 'Gender'] == 'Male' and data.loc[i, 'Married'] == 'Yes':\n",
    "        total += 1\n",
    "        if data.loc[i, 'Application_Status'] == 'N':\n",
    "            rejection += 1\n",
    "per_rej=(rejection/total)*100\n",
    "print('% of rejections for married male applicants: '+ str(round(per_rej,2)))        "
   ]
  },
  {
   "cell_type": "markdown",
   "metadata": {},
   "source": [
    "# Solution Q_5"
   ]
  },
  {
   "cell_type": "code",
   "execution_count": 142,
   "metadata": {},
   "outputs": [
    {
     "data": {
      "text/plain": [
       "array(['Urban', 'Rural', 'Semiurban'], dtype=object)"
      ]
     },
     "execution_count": 142,
     "metadata": {},
     "output_type": "execute_result"
    }
   ],
   "source": [
    "data['Property_Area'].unique()"
   ]
  },
  {
   "cell_type": "code",
   "execution_count": 158,
   "metadata": {},
   "outputs": [
    {
     "name": "stdout",
     "output_type": "stream",
     "text": [
      "property area with maximum approval ratio: Semiurban\n"
     ]
    }
   ],
   "source": [
    "approv_Ur=0\n",
    "approv_r=0\n",
    "approv_semi=0\n",
    "ur=0\n",
    "r=0\n",
    "semi=0\n",
    "for i in data.index:\n",
    "    if data.loc[i, 'Property_Area'] == 'Urban':\n",
    "        ur += 1\n",
    "        if data.loc[i, 'Application_Status'] == 'Y':\n",
    "            approv_Ur += 1\n",
    "    elif data.loc[i, 'Property_Area'] == 'Rural':\n",
    "        r += 1\n",
    "        if data.loc[i, 'Application_Status'] == 'Y':\n",
    "            approv_r += 1\n",
    "    else:\n",
    "        semi += 1\n",
    "        if data.loc[i, 'Application_Status'] == 'Y':\n",
    "            approv_semi += 1\n",
    "            \n",
    "lst={'Urban':approv_Ur/ur,'Rural':approv_r/r,'Semiurban':approv_semi/semi}\n",
    "key_list = list(lst.keys())\n",
    "val_list=list(lst.values())\n",
    "print('property area with maximum approval ratio: '+ key_list[val_list.index(max(lst.values()))])\n"
   ]
  },
  {
   "cell_type": "markdown",
   "metadata": {},
   "source": [
    "# Solution Q_6"
   ]
  },
  {
   "cell_type": "code",
   "execution_count": 159,
   "metadata": {},
   "outputs": [
    {
     "data": {
      "text/plain": [
       "array(['medium', 'low', 'high'], dtype=object)"
      ]
     },
     "execution_count": 159,
     "metadata": {},
     "output_type": "execute_result"
    }
   ],
   "source": [
    "data['Income'].unique()"
   ]
  },
  {
   "cell_type": "code",
   "execution_count": 169,
   "metadata": {},
   "outputs": [
    {
     "name": "stdout",
     "output_type": "stream",
     "text": [
      "Average Dependent for low income group: 0.6\n",
      "Average Dependent for medium income group: 0.9\n",
      "Average Dependent for high income group: 0.9\n"
     ]
    }
   ],
   "source": [
    "dependant_low=[]\n",
    "dependant_medium=[]\n",
    "dependant_high=[]\n",
    "for i in data.index:\n",
    "    if data.loc[i,'Income'] == 'low':\n",
    "        dependant_low.append(int(data.loc[i,'Dependents'][0]))\n",
    "    elif data.loc[i,'Income'] == 'medium':\n",
    "        dependant_medium.append(int(data.loc[i,'Dependents'][0]))\n",
    "    else:\n",
    "        dependant_high.append(int(data.loc[i,'Dependents'][0]))\n",
    "        \n",
    "print('Average Dependent for low income group: '+str(round(np.mean(dependant_low),1)))  \n",
    "print('Average Dependent for medium income group: '+str(round(np.mean(dependant_medium),1)))  \n",
    "print('Average Dependent for high income group: '+str(round(np.mean(dependant_high),1)))  "
   ]
  },
  {
   "cell_type": "markdown",
   "metadata": {},
   "source": [
    "# Solution Q_7"
   ]
  },
  {
   "cell_type": "markdown",
   "metadata": {},
   "source": [
    "## One-hot encoding for catagorical data"
   ]
  },
  {
   "cell_type": "code",
   "execution_count": 133,
   "metadata": {},
   "outputs": [
    {
     "data": {
      "text/plain": [
       "array([[0., 1., 1., ..., 0., 0., 1.],\n",
       "       [0., 1., 0., ..., 0., 0., 1.],\n",
       "       [0., 1., 0., ..., 0., 1., 0.],\n",
       "       ...,\n",
       "       [0., 1., 0., ..., 0., 0., 1.],\n",
       "       [0., 1., 0., ..., 0., 0., 1.],\n",
       "       [1., 0., 1., ..., 0., 0., 1.]])"
      ]
     },
     "execution_count": 133,
     "metadata": {},
     "output_type": "execute_result"
    }
   ],
   "source": [
    "from sklearn.preprocessing import OneHotEncoder\n",
    "from sklearn.compose import make_column_transformer\n",
    "col_trans=make_column_transformer((OneHotEncoder(),cat_feature_x),remainder='passthrough')\n",
    "col_trans.fit_transform(x)"
   ]
  },
  {
   "cell_type": "code",
   "execution_count": 128,
   "metadata": {},
   "outputs": [],
   "source": [
    "from sklearn.pipeline import make_pipeline\n",
    "from sklearn import svm #SVM classifier\n",
    "clf = svm.SVC(kernel='rbf') # RBF Kernel\n",
    "from sklearn.model_selection import cross_val_score"
   ]
  },
  {
   "cell_type": "code",
   "execution_count": 130,
   "metadata": {},
   "outputs": [
    {
     "name": "stdout",
     "output_type": "stream",
     "text": [
      "Accuracy after cross validation: 0.8081857985912813\n"
     ]
    }
   ],
   "source": [
    "pipe=make_pipeline(col_trans,clf)\n",
    "score=cross_val_score(pipe,x,y,cv=5,scoring='accuracy').mean()\n",
    "print('Accuracy after cross validation: ' +str(score))"
   ]
  }
 ],
 "metadata": {
  "kernelspec": {
   "display_name": "Python 3",
   "language": "python",
   "name": "python3"
  },
  "language_info": {
   "codemirror_mode": {
    "name": "ipython",
    "version": 3
   },
   "file_extension": ".py",
   "mimetype": "text/x-python",
   "name": "python",
   "nbconvert_exporter": "python",
   "pygments_lexer": "ipython3",
   "version": "3.7.6"
  }
 },
 "nbformat": 4,
 "nbformat_minor": 4
}
